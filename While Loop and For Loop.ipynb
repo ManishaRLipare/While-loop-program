{
 "cells": [
  {
   "cell_type": "markdown",
   "id": "4d7c49e8",
   "metadata": {},
   "source": [
    "### To print all natural numbers from 1 to n"
   ]
  },
  {
   "cell_type": "code",
   "execution_count": 1,
   "id": "8aa16ffa",
   "metadata": {},
   "outputs": [
    {
     "name": "stdout",
     "output_type": "stream",
     "text": [
      "Enter a number:10\n",
      "1\n",
      "2\n",
      "3\n",
      "4\n",
      "5\n",
      "6\n",
      "7\n",
      "8\n",
      "9\n",
      "10\n"
     ]
    }
   ],
   "source": [
    "n = int(input('Enter a number:'))\n",
    "i = 1\n",
    "while i<=n:\n",
    "    print(i)\n",
    "    i+=1"
   ]
  },
  {
   "cell_type": "markdown",
   "id": "17921902",
   "metadata": {},
   "source": [
    "### To print natural numbers in reverse from n to 1"
   ]
  },
  {
   "cell_type": "code",
   "execution_count": 3,
   "id": "700012a4",
   "metadata": {},
   "outputs": [
    {
     "name": "stdout",
     "output_type": "stream",
     "text": [
      "Enter a number:10\n",
      "10\n",
      "9\n",
      "8\n",
      "7\n",
      "6\n",
      "5\n",
      "4\n",
      "3\n",
      "2\n",
      "1\n"
     ]
    }
   ],
   "source": [
    "n = int(input('Enter a number:'))\n",
    "while n>=1:\n",
    "    print(n)\n",
    "    n-=1"
   ]
  },
  {
   "cell_type": "markdown",
   "id": "e394eed3",
   "metadata": {},
   "source": [
    "### To print all alphabets from a to z both capital and small letters"
   ]
  },
  {
   "cell_type": "code",
   "execution_count": 13,
   "id": "b51166bd",
   "metadata": {},
   "outputs": [
    {
     "name": "stdout",
     "output_type": "stream",
     "text": [
      "A B C D E F G H I J K L M N O P Q R S T U V W X Y Z \n",
      "\n",
      "a b c d e f g h i j k l m n o p q r s t u v w x y z "
     ]
    }
   ],
   "source": [
    "a = 65\n",
    "while a<91:\n",
    "    print(chr(a),end=' ')\n",
    "    a+=1\n",
    "b = 97\n",
    "print('\\n')\n",
    "while b<123:\n",
    "    print(chr(b),end=' ')\n",
    "    b+=1"
   ]
  },
  {
   "cell_type": "markdown",
   "id": "8f3fb54b",
   "metadata": {},
   "source": [
    "### To print all even number between 1 to 100"
   ]
  },
  {
   "cell_type": "code",
   "execution_count": 14,
   "id": "6313c731",
   "metadata": {},
   "outputs": [
    {
     "name": "stdout",
     "output_type": "stream",
     "text": [
      "2 4 6 8 10 12 14 16 18 20 22 24 26 28 30 32 34 36 38 40 42 44 46 48 50 52 54 56 58 60 62 64 66 68 70 72 74 76 78 80 82 84 86 88 90 92 94 96 98 100 "
     ]
    }
   ],
   "source": [
    "i = 2\n",
    "while i<=100:\n",
    "    print(i,end=' ')\n",
    "    i+=2"
   ]
  },
  {
   "cell_type": "markdown",
   "id": "1ef2241f",
   "metadata": {},
   "source": [
    "### To print all odd number between 1 to 100"
   ]
  },
  {
   "cell_type": "code",
   "execution_count": 16,
   "id": "447f2617",
   "metadata": {},
   "outputs": [
    {
     "name": "stdout",
     "output_type": "stream",
     "text": [
      "1 3 5 7 9 11 13 15 17 19 21 23 25 27 29 31 33 35 37 39 41 43 45 47 49 51 53 55 57 59 61 63 65 67 69 71 73 75 77 79 81 83 85 87 89 91 93 95 97 99 "
     ]
    }
   ],
   "source": [
    "i = 1\n",
    "while i<100:\n",
    "    print(i,end=' ')\n",
    "    i+=2"
   ]
  },
  {
   "cell_type": "markdown",
   "id": "7c3125ee",
   "metadata": {},
   "source": [
    "### Sum of all natural numbers"
   ]
  },
  {
   "cell_type": "code",
   "execution_count": 22,
   "id": "ac1da29c",
   "metadata": {},
   "outputs": [
    {
     "name": "stdout",
     "output_type": "stream",
     "text": [
      "Enter a number:10\n",
      "The sum is 55\n"
     ]
    }
   ],
   "source": [
    "sum = 0\n",
    "i =1\n",
    "n = int(input('Enter a number:'))\n",
    "while i<=n:\n",
    "    sum+=i\n",
    "    i+=1\n",
    "    \n",
    "print('The sum is',sum)    "
   ]
  },
  {
   "cell_type": "markdown",
   "id": "003915fa",
   "metadata": {},
   "source": [
    "### Sum of all even numbers"
   ]
  },
  {
   "cell_type": "code",
   "execution_count": 35,
   "id": "64c221cc",
   "metadata": {},
   "outputs": [
    {
     "name": "stdout",
     "output_type": "stream",
     "text": [
      "Enter a number:12\n",
      "The sum of even numbers are: 42\n"
     ]
    }
   ],
   "source": [
    "n = int(input('Enter a number:'))\n",
    "i = 1\n",
    "sum = 0\n",
    "while i<=n:\n",
    "    if(i%2==0):    \n",
    "        sum+=i\n",
    "    i+=1\n",
    "\n",
    "print('The sum of even numbers are:',sum)\n",
    "    \n",
    "              "
   ]
  },
  {
   "cell_type": "markdown",
   "id": "4bbd90c9",
   "metadata": {},
   "source": [
    "### Sum of all odd numbers"
   ]
  },
  {
   "cell_type": "code",
   "execution_count": 37,
   "id": "b7f18eb4",
   "metadata": {},
   "outputs": [
    {
     "name": "stdout",
     "output_type": "stream",
     "text": [
      "Enter a number:11\n",
      "The sum of odd numbers are: 36\n"
     ]
    }
   ],
   "source": [
    "n = int(input('Enter a number:'))\n",
    "i =1\n",
    "sum = 0\n",
    "while i<=n:\n",
    "    if(i%2!=0):\n",
    "        sum+=i\n",
    "    i+=1\n",
    "    \n",
    "    \n",
    "print('The sum of odd numbers are:',sum)        "
   ]
  },
  {
   "cell_type": "markdown",
   "id": "6d4a5383",
   "metadata": {},
   "source": [
    "### To print multiplication table of any number"
   ]
  },
  {
   "cell_type": "code",
   "execution_count": 41,
   "id": "fd08080f",
   "metadata": {},
   "outputs": [
    {
     "name": "stdout",
     "output_type": "stream",
     "text": [
      "Enter a number11\n",
      "11 X 1 = 11\n",
      "11 X 2 = 22\n",
      "11 X 3 = 33\n",
      "11 X 4 = 44\n",
      "11 X 5 = 55\n",
      "11 X 6 = 66\n",
      "11 X 7 = 77\n",
      "11 X 8 = 88\n",
      "11 X 9 = 99\n",
      "11 X 10 = 110\n"
     ]
    }
   ],
   "source": [
    "n = int(input('Enter a number'))\n",
    "for i in range(1,11):\n",
    "    print(n,'X',i,'=',n*i)\n",
    "    "
   ]
  },
  {
   "cell_type": "code",
   "execution_count": 43,
   "id": "02a4c1ff",
   "metadata": {},
   "outputs": [
    {
     "name": "stdout",
     "output_type": "stream",
     "text": [
      "Enter a number:11\n",
      "11 x 1 = 11\n",
      "11 x 2 = 22\n",
      "11 x 3 = 33\n",
      "11 x 4 = 44\n",
      "11 x 5 = 55\n",
      "11 x 6 = 66\n",
      "11 x 7 = 77\n",
      "11 x 8 = 88\n",
      "11 x 9 = 99\n",
      "11 x 10 = 110\n"
     ]
    }
   ],
   "source": [
    "n = int(input('Enter a number:'))\n",
    "i = 1\n",
    "while i<11:\n",
    "    print(n,'x',i,'=',n*i)\n",
    "    i+=1"
   ]
  },
  {
   "cell_type": "markdown",
   "id": "2f164621",
   "metadata": {},
   "source": [
    "### Count number of digit in a number"
   ]
  },
  {
   "cell_type": "code",
   "execution_count": 45,
   "id": "fca5ea8b",
   "metadata": {},
   "outputs": [
    {
     "name": "stdout",
     "output_type": "stream",
     "text": [
      "Enter a number:manu123 lipare456\n",
      "The count number of digit is 6\n"
     ]
    }
   ],
   "source": [
    "n = input('Enter a number:')\n",
    "count = 0\n",
    "for i in n:\n",
    "    if i.isdigit():\n",
    "        count+=1\n",
    "\n",
    "print('The count number of digit is',count)"
   ]
  },
  {
   "cell_type": "markdown",
   "id": "6cd104f7",
   "metadata": {},
   "source": [
    "### To find first and last digit of numbers"
   ]
  },
  {
   "cell_type": "code",
   "execution_count": 55,
   "id": "cccdfe34",
   "metadata": {},
   "outputs": [
    {
     "name": "stdout",
     "output_type": "stream",
     "text": [
      "Enter a number:123manu456\n",
      "The first and last digit number is 1 and 6\n"
     ]
    }
   ],
   "source": [
    "n = input('Enter a number:')\n",
    "l = []\n",
    "for i in n:\n",
    "    if i.isdigit():\n",
    "        l.append(i)\n",
    "        \n",
    "print('The first and last digit number is',l[0],'and',l[-1])"
   ]
  },
  {
   "cell_type": "markdown",
   "id": "0bd20592",
   "metadata": {},
   "source": [
    "### To find sum of first and last digit of numbers"
   ]
  },
  {
   "cell_type": "code",
   "execution_count": 54,
   "id": "7832a8b4",
   "metadata": {},
   "outputs": [
    {
     "name": "stdout",
     "output_type": "stream",
     "text": [
      "Enter a number:123manu456\n",
      "The sum of 123manu456 first and last digit is 7\n"
     ]
    }
   ],
   "source": [
    "n = input('Enter a number:')\n",
    "l = []\n",
    "for i in n:\n",
    "    if i.isdigit():\n",
    "        l.append(i)\n",
    "m = int(l[0])+int(l[-1])\n",
    "print('The sum of',n,'first and last digit is',m)"
   ]
  },
  {
   "cell_type": "markdown",
   "id": "e87350df",
   "metadata": {},
   "source": [
    "### To swap first and last digit of nuumber"
   ]
  },
  {
   "cell_type": "code",
   "execution_count": 58,
   "id": "435dc3f8",
   "metadata": {},
   "outputs": [
    {
     "name": "stdout",
     "output_type": "stream",
     "text": [
      "Enter a number:123manu4567\n",
      "7234561\n"
     ]
    }
   ],
   "source": [
    "n = input('Enter a number:')\n",
    "l = []\n",
    "for i in n:\n",
    "    if i.isdigit():\n",
    "        l.append(i)\n",
    "\n",
    "temp = l[0]\n",
    "l[0] = l[-1]\n",
    "l[-1] = temp\n",
    "print(''.join(l))"
   ]
  },
  {
   "cell_type": "markdown",
   "id": "a669704a",
   "metadata": {},
   "source": [
    "### To calculate sum of digit of number"
   ]
  },
  {
   "cell_type": "code",
   "execution_count": 63,
   "id": "33a6dd1b",
   "metadata": {},
   "outputs": [
    {
     "name": "stdout",
     "output_type": "stream",
     "text": [
      "Enter a number:123manu4\n",
      "The sum of digit of number is: 10\n"
     ]
    }
   ],
   "source": [
    "n = input('Enter a number:')\n",
    "sum = 0\n",
    "for i in n:\n",
    "    if i.isdigit():\n",
    "        sum+=int(i)\n",
    "\n",
    "        \n",
    "print('The sum of digit of number is:',sum)    \n",
    "        "
   ]
  },
  {
   "cell_type": "markdown",
   "id": "4045f4e3",
   "metadata": {},
   "source": [
    "### Product of digit of a number"
   ]
  },
  {
   "cell_type": "code",
   "execution_count": 65,
   "id": "370ac524",
   "metadata": {},
   "outputs": [
    {
     "name": "stdout",
     "output_type": "stream",
     "text": [
      "Enter a number:12manu2\n",
      "The product of digit of number is: 4\n"
     ]
    }
   ],
   "source": [
    "n = input('Enter a number:')\n",
    "p = 1\n",
    "for i in n:\n",
    "    if i.isdigit():\n",
    "        p = p * int(i)\n",
    "        \n",
    "print('The product of digit of number is:',p)        "
   ]
  },
  {
   "cell_type": "markdown",
   "id": "15ecccbe",
   "metadata": {},
   "source": [
    "### print number in reverse order"
   ]
  },
  {
   "cell_type": "code",
   "execution_count": 66,
   "id": "1123b005",
   "metadata": {},
   "outputs": [
    {
     "name": "stdout",
     "output_type": "stream",
     "text": [
      "Enter a number:1234567\n",
      "The number 1234567 in reverse order is 7654321\n"
     ]
    }
   ],
   "source": [
    "n = input('Enter a number:')\n",
    "m =''\n",
    "for i in n:\n",
    "    if i.isdigit():\n",
    "        m = i+m\n",
    "        \n",
    "print('The number',n,'in reverse order is',m)        "
   ]
  },
  {
   "cell_type": "code",
   "execution_count": 77,
   "id": "363bb207",
   "metadata": {},
   "outputs": [
    {
     "name": "stdout",
     "output_type": "stream",
     "text": [
      "Enter a number:123456789\n",
      "987654321\n"
     ]
    }
   ],
   "source": [
    "n = input('Enter a number:')\n",
    "m = list(reversed(n))\n",
    "print(''.join(m))"
   ]
  },
  {
   "cell_type": "markdown",
   "id": "c853f324",
   "metadata": {},
   "source": [
    "### Number is palindrome or not"
   ]
  },
  {
   "cell_type": "code",
   "execution_count": 81,
   "id": "2c88715a",
   "metadata": {},
   "outputs": [
    {
     "name": "stdout",
     "output_type": "stream",
     "text": [
      "Enter a number:121\n",
      "121\n",
      "The number is Palindrome 121\n"
     ]
    }
   ],
   "source": [
    "n = input('Enter a number:')\n",
    "m = ''\n",
    "for i in n:\n",
    "    if i.isdigit():\n",
    "        m = i+m\n",
    "\n",
    "\n",
    "print(m)\n",
    "if n == m:\n",
    "    print('The number is Palindrome',n)\n",
    "else:\n",
    "    print('The number is not Palindrome',n)\n",
    "        "
   ]
  },
  {
   "cell_type": "markdown",
   "id": "09a18809",
   "metadata": {},
   "source": [
    "### string is palindrome or not"
   ]
  },
  {
   "cell_type": "code",
   "execution_count": 86,
   "id": "1221c328",
   "metadata": {},
   "outputs": [
    {
     "name": "stdout",
     "output_type": "stream",
     "text": [
      "Enter a number:nitin\n",
      "nitin\n",
      "The string is Palindrome nitin\n"
     ]
    }
   ],
   "source": [
    "n = input('Enter a number:')\n",
    "m = ''\n",
    "for i in n:\n",
    "    m = i+m\n",
    "\n",
    "print(m)\n",
    "if n == m:\n",
    "    print('The string is Palindrome',n)\n",
    "else:\n",
    "    print('The string is not Palindrome',n)"
   ]
  },
  {
   "cell_type": "markdown",
   "id": "08f5d5b4",
   "metadata": {},
   "source": [
    "### To find the frequency of each digit in a given number"
   ]
  },
  {
   "cell_type": "code",
   "execution_count": 98,
   "id": "f1b17cad",
   "metadata": {},
   "outputs": [
    {
     "name": "stdout",
     "output_type": "stream",
     "text": [
      "Enter a number:mmmaaannuu\n",
      "{'m': 3, 'a': 3, 'n': 2, 'u': 2}\n"
     ]
    }
   ],
   "source": [
    "n = input('Enter a number:')\n",
    "print({i:n.count(i) for i in n})"
   ]
  },
  {
   "cell_type": "code",
   "execution_count": 97,
   "id": "a55be4e9",
   "metadata": {},
   "outputs": [
    {
     "name": "stdout",
     "output_type": "stream",
     "text": [
      "Enter a number:112233\n",
      "{'1': 2, '2': 2, '3': 2}\n"
     ]
    }
   ],
   "source": [
    "n = input('Enter a number:')\n",
    "print({i:n.count(i) for i in n})"
   ]
  },
  {
   "cell_type": "code",
   "execution_count": 3,
   "id": "a682375c",
   "metadata": {},
   "outputs": [
    {
     "name": "stdout",
     "output_type": "stream",
     "text": [
      "Enter a number:123123\n",
      "1 2\n",
      "2 2\n",
      "3 2\n",
      "1 2\n",
      "2 2\n",
      "3 2\n"
     ]
    }
   ],
   "source": [
    "n = input('Enter a number:')\n",
    "for i in n:\n",
    "    print(i,n.count(i))\n",
    "    \n",
    "    "
   ]
  },
  {
   "cell_type": "markdown",
   "id": "d65d6e17",
   "metadata": {},
   "source": [
    "### Enter a digit and print it in word"
   ]
  },
  {
   "cell_type": "code",
   "execution_count": 5,
   "id": "33fe7be8",
   "metadata": {},
   "outputs": [
    {
     "name": "stdout",
     "output_type": "stream",
     "text": [
      "Enter a number:123789\n",
      "1 One\n",
      "2 Two\n",
      "3 Three\n",
      "7 Seven\n",
      "8 Eight\n",
      "9 Nine\n"
     ]
    }
   ],
   "source": [
    "n = input('Enter a number:')\n",
    "for i in n:\n",
    "    if i.isdigit():\n",
    "        if i == '1':\n",
    "            print(i,'One')\n",
    "        elif i == '2':\n",
    "            print(i,'Two')\n",
    "        elif i == '3':\n",
    "            print(i,'Three')\n",
    "        elif i == '4':\n",
    "            print(i,'Four')\n",
    "        elif i == '5':\n",
    "            print(i,'Five')\n",
    "        elif i == '6':\n",
    "            print(i,'Six')\n",
    "        elif i == '7':\n",
    "            print(i,'Seven')                                            \n",
    "        elif i == '8':\n",
    "            print(i,'Eight')\n",
    "        else:\n",
    "            print(i,'Nine')"
   ]
  },
  {
   "cell_type": "markdown",
   "id": "5a77c4b8",
   "metadata": {},
   "source": [
    "### To find power of number"
   ]
  },
  {
   "cell_type": "code",
   "execution_count": 23,
   "id": "baf70575",
   "metadata": {},
   "outputs": [
    {
     "name": "stdout",
     "output_type": "stream",
     "text": [
      "Enter a number:25\n",
      "Enter a power2\n",
      "The power 2 of number 25 is 625\n"
     ]
    }
   ],
   "source": [
    "n = input('Enter a number:')\n",
    "p = input('Enter a power')\n",
    "mul =1\n",
    "for i in p:\n",
    "       mul = int(n)**int(i)\n",
    "\n",
    "print('The power',p,'of number',n,'is',mul)\n",
    "        "
   ]
  },
  {
   "cell_type": "code",
   "execution_count": 24,
   "id": "701122c5",
   "metadata": {},
   "outputs": [
    {
     "name": "stdout",
     "output_type": "stream",
     "text": [
      "Enter a number:25\n",
      "Enter a power11\n",
      "The power 11 of number 25 is 2384185791015625\n"
     ]
    }
   ],
   "source": [
    "n = input('Enter a number:')\n",
    "p = input('Enter a power')\n",
    "mul =1\n",
    "for i in p:\n",
    "       mul = int(n)**int(p)\n",
    "\n",
    "print('The power',p,'of number',n,'is',mul)"
   ]
  },
  {
   "cell_type": "markdown",
   "id": "b899878f",
   "metadata": {},
   "source": [
    "### To calculate factorial of number"
   ]
  },
  {
   "cell_type": "code",
   "execution_count": 46,
   "id": "32fe39de",
   "metadata": {},
   "outputs": [
    {
     "name": "stdout",
     "output_type": "stream",
     "text": [
      "Enter a number:5\n",
      "The factorial of number is 120\n"
     ]
    }
   ],
   "source": [
    "n = input('Enter a number:')\n",
    "fact = 1\n",
    "if int(n)>0:\n",
    "    for i in range(1,int(n)+1):\n",
    "        fact = fact*i\n",
    "\n",
    "    print('The factorial of number is',fact)  \n",
    "else:\n",
    "    print('The factorial of zero is 1')"
   ]
  },
  {
   "cell_type": "markdown",
   "id": "1e071f71",
   "metadata": {},
   "source": [
    "### To find number is prime or not"
   ]
  },
  {
   "cell_type": "code",
   "execution_count": 15,
   "id": "f8e357e5",
   "metadata": {},
   "outputs": [
    {
     "name": "stdout",
     "output_type": "stream",
     "text": [
      "Enter a number:11\n",
      "11 is a prime number\n"
     ]
    }
   ],
   "source": [
    "n = int(input('Enter a number:'))\n",
    "if n>1:\n",
    "    for i in range(2,int(n/2)+1):\n",
    "        if (n % i) == 0:\n",
    "            print(n,'is not a prime number')\n",
    "            break\n",
    "    else:\n",
    "        print(n,'is a prime number')\n",
    "else:\n",
    "    print(n,'is not a prime number')\n"
   ]
  },
  {
   "cell_type": "markdown",
   "id": "9f7765ea",
   "metadata": {},
   "source": [
    "### Print all prime number between 1 to n"
   ]
  },
  {
   "cell_type": "code",
   "execution_count": 17,
   "id": "5b15945b",
   "metadata": {},
   "outputs": [
    {
     "name": "stdout",
     "output_type": "stream",
     "text": [
      "Enter a number:15\n",
      "1 is not a prime number\n",
      "2 is a prime number\n",
      "3 is a prime number\n",
      "4 is not a prime number\n",
      "5 is a prime number\n",
      "6 is not a prime number\n",
      "7 is a prime number\n",
      "8 is not a prime number\n",
      "9 is not a prime number\n",
      "10 is not a prime number\n",
      "11 is a prime number\n",
      "12 is not a prime number\n",
      "13 is a prime number\n",
      "14 is not a prime number\n",
      "15 is not a prime number\n"
     ]
    }
   ],
   "source": [
    "m = int(input('Enter a number:'))\n",
    "\n",
    "for n in range(1,m+1):\n",
    "    if n>1:\n",
    "        for i in range(2,int(n/2)+1):\n",
    "            if (n % i) == 0:\n",
    "                print(n,'is not a prime number')\n",
    "                break\n",
    "        else:\n",
    "            print(n,'is a prime number')\n",
    "    else:\n",
    "        print(n,'is not a prime number')"
   ]
  },
  {
   "cell_type": "markdown",
   "id": "7a1e722f",
   "metadata": {},
   "source": [
    "### Print sum of 1 to n prime numbers"
   ]
  },
  {
   "cell_type": "code",
   "execution_count": 18,
   "id": "745e2b6b",
   "metadata": {},
   "outputs": [
    {
     "name": "stdout",
     "output_type": "stream",
     "text": [
      "Enter a number:15\n",
      "1 is not a prime number\n",
      "2 is a prime number\n",
      "3 is a prime number\n",
      "4 is not a prime number\n",
      "5 is a prime number\n",
      "6 is not a prime number\n",
      "7 is a prime number\n",
      "8 is not a prime number\n",
      "9 is not a prime number\n",
      "10 is not a prime number\n",
      "11 is a prime number\n",
      "12 is not a prime number\n",
      "13 is a prime number\n",
      "14 is not a prime number\n",
      "15 is not a prime number\n",
      "The sum of prime numbers are: 41\n"
     ]
    }
   ],
   "source": [
    "m = int(input('Enter a number:'))\n",
    "sum = 0\n",
    "for n in range(1,m+1):\n",
    "    if n>1:\n",
    "        for i in range(2,int(n/2)+1):\n",
    "            if (n % i) == 0:\n",
    "                print(n,'is not a prime number')\n",
    "                break\n",
    "        else:\n",
    "            print(n,'is a prime number')\n",
    "            sum+=n\n",
    "    else:\n",
    "        print(n,'is not a prime number')\n",
    "        \n",
    "print('The sum of prime numbers are:',sum)        "
   ]
  },
  {
   "cell_type": "code",
   "execution_count": null,
   "id": "a918bf6a",
   "metadata": {},
   "outputs": [],
   "source": [
    "123\n",
    "1X3+2X3+3X3"
   ]
  },
  {
   "cell_type": "markdown",
   "id": "1b1c4c9b",
   "metadata": {},
   "source": [
    "### To find number is armstrong or not"
   ]
  },
  {
   "cell_type": "code",
   "execution_count": 27,
   "id": "6d145293",
   "metadata": {},
   "outputs": [
    {
     "name": "stdout",
     "output_type": "stream",
     "text": [
      "Enter a number:371\n",
      "371\n",
      "371\n",
      "371 is a armstrong number\n"
     ]
    }
   ],
   "source": [
    "n = input('Enter a number:')\n",
    "p = len(n)\n",
    "arm = 0\n",
    "for i in n:\n",
    "    arm = arm+(int(i)**int(p))\n",
    "    \n",
    "print(n)    \n",
    "print(arm)\n",
    "if int(n) == arm:\n",
    "    print(n,'is a armstrong number')\n",
    "else:\n",
    "    print(n,'is not a armstrong number')"
   ]
  },
  {
   "cell_type": "markdown",
   "id": "7bfe61c6",
   "metadata": {},
   "source": [
    "### To print all armstrong number between 1 to n"
   ]
  },
  {
   "cell_type": "code",
   "execution_count": 46,
   "id": "0aa7ec11",
   "metadata": {},
   "outputs": [
    {
     "name": "stdout",
     "output_type": "stream",
     "text": [
      "Enter a number:1000\n",
      "1 2 3 4 5 6 7 8 9 153 370 371 407 "
     ]
    }
   ],
   "source": [
    "m = int(input('Enter a number:'))\n",
    "for n in range(1,m+1):\n",
    "    p = len(str(n))\n",
    "    arm = 0\n",
    "    for i in str(n):\n",
    "        i = int(i)\n",
    "        d = i%10\n",
    "        arm = arm+(int(d)**int(p))\n",
    "        i//=10\n",
    "\n",
    "    if int(n) == arm:\n",
    "        print(n,end=' ')\n"
   ]
  },
  {
   "cell_type": "code",
   "execution_count": 47,
   "id": "381e4a18",
   "metadata": {},
   "outputs": [
    {
     "name": "stdout",
     "output_type": "stream",
     "text": [
      "Enter a number:1000\n",
      "1 2 3 4 5 6 7 8 9 153 370 371 407 "
     ]
    }
   ],
   "source": [
    "m = int(input('Enter a number:'))\n",
    "for n in range(1,m+1):\n",
    "    p = len(str(n))\n",
    "    arm = 0\n",
    "    for i in str(n):\n",
    "        arm = arm+(int(i)**int(p))\n",
    "    \n",
    "    if int(n) == arm:\n",
    "        print(n,end=' ')"
   ]
  },
  {
   "cell_type": "markdown",
   "id": "255a5f02",
   "metadata": {},
   "source": [
    "### To print Fibonacci series up to n terms"
   ]
  },
  {
   "cell_type": "code",
   "execution_count": 11,
   "id": "698ae45e",
   "metadata": {},
   "outputs": [
    {
     "name": "stdout",
     "output_type": "stream",
     "text": [
      "Enter a number:15\n",
      "0\n",
      "1\n",
      "1\n",
      "2\n",
      "3\n",
      "5\n",
      "8\n",
      "13\n",
      "21\n",
      "34\n",
      "55\n",
      "89\n",
      "144\n",
      "233\n",
      "377\n"
     ]
    }
   ],
   "source": [
    "n = int(input('Enter a number:'))\n",
    "a = 0\n",
    "b = 1\n",
    "for i in range(n):\n",
    "    if i==0 or i ==1:\n",
    "        print(i)\n",
    "        \n",
    "    else:\n",
    "        c = a+b\n",
    "        print(c)\n",
    "        a = b\n",
    "        b = c\n",
    "\n",
    "        \n"
   ]
  },
  {
   "cell_type": "markdown",
   "id": "20a8015a",
   "metadata": {},
   "source": [
    "### Patterns"
   ]
  },
  {
   "cell_type": "code",
   "execution_count": 14,
   "id": "935b9b7a",
   "metadata": {},
   "outputs": [
    {
     "name": "stdout",
     "output_type": "stream",
     "text": [
      "*\n",
      "**\n",
      "***\n",
      "****\n",
      "*****\n"
     ]
    }
   ],
   "source": [
    "for i in range(1,6):\n",
    "    print('*'*i)"
   ]
  },
  {
   "cell_type": "code",
   "execution_count": 18,
   "id": "7f9170d0",
   "metadata": {},
   "outputs": [
    {
     "name": "stdout",
     "output_type": "stream",
     "text": [
      "1\n",
      "22\n",
      "333\n",
      "4444\n",
      "55555\n"
     ]
    }
   ],
   "source": [
    "for i in range(1,6):\n",
    "    print(str(i)*i)"
   ]
  },
  {
   "cell_type": "code",
   "execution_count": 20,
   "id": "71645399",
   "metadata": {},
   "outputs": [
    {
     "name": "stdout",
     "output_type": "stream",
     "text": [
      "A\n",
      "BB\n",
      "CCC\n",
      "DDDD\n",
      "EEEEE\n"
     ]
    }
   ],
   "source": [
    "a = 65\n",
    "for i in range(1,6):\n",
    "    print(chr(a)*i)\n",
    "    a+=1"
   ]
  },
  {
   "cell_type": "code",
   "execution_count": 21,
   "id": "3b119c2a",
   "metadata": {},
   "outputs": [
    {
     "name": "stdout",
     "output_type": "stream",
     "text": [
      "A\n",
      "AA\n",
      "AAA\n",
      "AAAA\n",
      "AAAAA\n"
     ]
    }
   ],
   "source": [
    "for i in range(1,6):\n",
    "    a = 65\n",
    "    print(chr(a)*i)\n",
    "    a+=1"
   ]
  },
  {
   "cell_type": "code",
   "execution_count": 53,
   "id": "bafd72df",
   "metadata": {},
   "outputs": [
    {
     "name": "stdout",
     "output_type": "stream",
     "text": [
      "A\n",
      "AB\n",
      "ABC\n",
      "ABCD\n",
      "ABCDE\n"
     ]
    }
   ],
   "source": [
    "a = 65\n",
    "for i in range(1,6):\n",
    "    for j in range(i):\n",
    "        print(chr(a+j),end='')\n",
    "    print()    \n",
    "       "
   ]
  },
  {
   "cell_type": "code",
   "execution_count": 33,
   "id": "ad42d11c",
   "metadata": {},
   "outputs": [
    {
     "name": "stdout",
     "output_type": "stream",
     "text": [
      "*****\n",
      "****\n",
      "***\n",
      "**\n",
      "*\n"
     ]
    }
   ],
   "source": [
    "for i in range(5,0,-1):\n",
    "    print('*'*i)"
   ]
  },
  {
   "cell_type": "code",
   "execution_count": 55,
   "id": "e40e6401",
   "metadata": {},
   "outputs": [
    {
     "name": "stdout",
     "output_type": "stream",
     "text": [
      "A\n",
      "BC\n",
      "DEF\n",
      "GHIJ\n",
      "KLMNO\n"
     ]
    }
   ],
   "source": [
    "a = 65\n",
    "for i in range(1,6):\n",
    "    for j in range(i):\n",
    "        print(chr(a),end='')\n",
    "        a+=1\n",
    "    print()    \n",
    "       "
   ]
  },
  {
   "cell_type": "code",
   "execution_count": null,
   "id": "cd939c76",
   "metadata": {},
   "outputs": [],
   "source": []
  }
 ],
 "metadata": {
  "kernelspec": {
   "display_name": "Python 3 (ipykernel)",
   "language": "python",
   "name": "python3"
  },
  "language_info": {
   "codemirror_mode": {
    "name": "ipython",
    "version": 3
   },
   "file_extension": ".py",
   "mimetype": "text/x-python",
   "name": "python",
   "nbconvert_exporter": "python",
   "pygments_lexer": "ipython3",
   "version": "3.9.12"
  }
 },
 "nbformat": 4,
 "nbformat_minor": 5
}
